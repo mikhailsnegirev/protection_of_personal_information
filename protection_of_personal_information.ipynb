{
 "cells": [
  {
   "cell_type": "markdown",
   "metadata": {
    "toc": true
   },
   "source": [
    "<h1>Содержание<span class=\"tocSkip\"></span></h1>\n",
    "<div class=\"toc\"><ul class=\"toc-item\"><li><span><a href=\"#Загрузка-данных\" data-toc-modified-id=\"Загрузка-данных-1\"><span class=\"toc-item-num\">1&nbsp;&nbsp;</span>Загрузка данных</a></span></li><li><span><a href=\"#Умножение-матриц\" data-toc-modified-id=\"Умножение-матриц-2\"><span class=\"toc-item-num\">2&nbsp;&nbsp;</span>Умножение матриц</a></span></li><li><span><a href=\"#Алгоритм-преобразования\" data-toc-modified-id=\"Алгоритм-преобразования-3\"><span class=\"toc-item-num\">3&nbsp;&nbsp;</span>Алгоритм преобразования</a></span></li><li><span><a href=\"#Проверка-алгоритма\" data-toc-modified-id=\"Проверка-алгоритма-4\"><span class=\"toc-item-num\">4&nbsp;&nbsp;</span>Проверка алгоритма</a></span></li><li><span><a href=\"#Вывод\" data-toc-modified-id=\"Вывод-5\"><span class=\"toc-item-num\">5&nbsp;&nbsp;</span>Вывод</a></span></li><li><span><a href=\"#Чек-лист-проверки\" data-toc-modified-id=\"Чек-лист-проверки-6\"><span class=\"toc-item-num\">6&nbsp;&nbsp;</span>Чек-лист проверки</a></span></li></ul></div>"
   ]
  },
  {
   "cell_type": "markdown",
   "metadata": {},
   "source": [
    "# Защита персональных данных клиентов"
   ]
  },
  {
   "cell_type": "markdown",
   "metadata": {},
   "source": [
    "Нам нужно защитить данные клиентов страховой компании «Хоть потоп». Разработаем такой метод преобразования данных, чтобы по ним было сложно восстановить персональную информацию. Обоснуем корректность его работы.\n",
    "\n",
    "Нужно защитить данные, чтобы при преобразовании качество моделей машинного обучения не ухудшилось. Подбирать наилучшую модель не требуется."
   ]
  },
  {
   "cell_type": "markdown",
   "metadata": {},
   "source": [
    "**Импорт необходимых библиотек:**"
   ]
  },
  {
   "cell_type": "code",
   "execution_count": 1,
   "metadata": {},
   "outputs": [],
   "source": [
    "import pandas as pd\n",
    "import numpy as np\n",
    "from sklearn.metrics import mean_squared_error\n",
    "from sklearn.model_selection import train_test_split\n",
    "from sklearn.linear_model import LinearRegression\n",
    "from sklearn.metrics import accuracy_score\n",
    "from sklearn.metrics import r2_score\n",
    "import matplotlib.pyplot as plt"
   ]
  },
  {
   "cell_type": "markdown",
   "metadata": {},
   "source": [
    "## Загрузка данных"
   ]
  },
  {
   "cell_type": "code",
   "execution_count": 2,
   "metadata": {},
   "outputs": [],
   "source": [
    "data = pd.read_csv('/datasets/insurance.csv')"
   ]
  },
  {
   "cell_type": "code",
   "execution_count": 3,
   "metadata": {},
   "outputs": [
    {
     "data": {
      "text/html": [
       "<div>\n",
       "<style scoped>\n",
       "    .dataframe tbody tr th:only-of-type {\n",
       "        vertical-align: middle;\n",
       "    }\n",
       "\n",
       "    .dataframe tbody tr th {\n",
       "        vertical-align: top;\n",
       "    }\n",
       "\n",
       "    .dataframe thead th {\n",
       "        text-align: right;\n",
       "    }\n",
       "</style>\n",
       "<table border=\"1\" class=\"dataframe\">\n",
       "  <thead>\n",
       "    <tr style=\"text-align: right;\">\n",
       "      <th></th>\n",
       "      <th>Пол</th>\n",
       "      <th>Возраст</th>\n",
       "      <th>Зарплата</th>\n",
       "      <th>Члены семьи</th>\n",
       "      <th>Страховые выплаты</th>\n",
       "    </tr>\n",
       "  </thead>\n",
       "  <tbody>\n",
       "    <tr>\n",
       "      <th>0</th>\n",
       "      <td>1</td>\n",
       "      <td>41.0</td>\n",
       "      <td>49600.0</td>\n",
       "      <td>1</td>\n",
       "      <td>0</td>\n",
       "    </tr>\n",
       "    <tr>\n",
       "      <th>1</th>\n",
       "      <td>0</td>\n",
       "      <td>46.0</td>\n",
       "      <td>38000.0</td>\n",
       "      <td>1</td>\n",
       "      <td>1</td>\n",
       "    </tr>\n",
       "    <tr>\n",
       "      <th>2</th>\n",
       "      <td>0</td>\n",
       "      <td>29.0</td>\n",
       "      <td>21000.0</td>\n",
       "      <td>0</td>\n",
       "      <td>0</td>\n",
       "    </tr>\n",
       "    <tr>\n",
       "      <th>3</th>\n",
       "      <td>0</td>\n",
       "      <td>21.0</td>\n",
       "      <td>41700.0</td>\n",
       "      <td>2</td>\n",
       "      <td>0</td>\n",
       "    </tr>\n",
       "    <tr>\n",
       "      <th>4</th>\n",
       "      <td>1</td>\n",
       "      <td>28.0</td>\n",
       "      <td>26100.0</td>\n",
       "      <td>0</td>\n",
       "      <td>0</td>\n",
       "    </tr>\n",
       "  </tbody>\n",
       "</table>\n",
       "</div>"
      ],
      "text/plain": [
       "   Пол  Возраст  Зарплата  Члены семьи  Страховые выплаты\n",
       "0    1     41.0   49600.0            1                  0\n",
       "1    0     46.0   38000.0            1                  1\n",
       "2    0     29.0   21000.0            0                  0\n",
       "3    0     21.0   41700.0            2                  0\n",
       "4    1     28.0   26100.0            0                  0"
      ]
     },
     "execution_count": 3,
     "metadata": {},
     "output_type": "execute_result"
    }
   ],
   "source": [
    "data.head()"
   ]
  },
  {
   "cell_type": "code",
   "execution_count": 4,
   "metadata": {},
   "outputs": [
    {
     "data": {
      "text/html": [
       "<div>\n",
       "<style scoped>\n",
       "    .dataframe tbody tr th:only-of-type {\n",
       "        vertical-align: middle;\n",
       "    }\n",
       "\n",
       "    .dataframe tbody tr th {\n",
       "        vertical-align: top;\n",
       "    }\n",
       "\n",
       "    .dataframe thead th {\n",
       "        text-align: right;\n",
       "    }\n",
       "</style>\n",
       "<table border=\"1\" class=\"dataframe\">\n",
       "  <thead>\n",
       "    <tr style=\"text-align: right;\">\n",
       "      <th></th>\n",
       "      <th>Пол</th>\n",
       "      <th>Возраст</th>\n",
       "      <th>Зарплата</th>\n",
       "      <th>Члены семьи</th>\n",
       "      <th>Страховые выплаты</th>\n",
       "    </tr>\n",
       "  </thead>\n",
       "  <tbody>\n",
       "    <tr>\n",
       "      <th>count</th>\n",
       "      <td>5000.000000</td>\n",
       "      <td>5000.000000</td>\n",
       "      <td>5000.000000</td>\n",
       "      <td>5000.000000</td>\n",
       "      <td>5000.000000</td>\n",
       "    </tr>\n",
       "    <tr>\n",
       "      <th>mean</th>\n",
       "      <td>0.499000</td>\n",
       "      <td>30.952800</td>\n",
       "      <td>39916.360000</td>\n",
       "      <td>1.194200</td>\n",
       "      <td>0.148000</td>\n",
       "    </tr>\n",
       "    <tr>\n",
       "      <th>std</th>\n",
       "      <td>0.500049</td>\n",
       "      <td>8.440807</td>\n",
       "      <td>9900.083569</td>\n",
       "      <td>1.091387</td>\n",
       "      <td>0.463183</td>\n",
       "    </tr>\n",
       "    <tr>\n",
       "      <th>min</th>\n",
       "      <td>0.000000</td>\n",
       "      <td>18.000000</td>\n",
       "      <td>5300.000000</td>\n",
       "      <td>0.000000</td>\n",
       "      <td>0.000000</td>\n",
       "    </tr>\n",
       "    <tr>\n",
       "      <th>25%</th>\n",
       "      <td>0.000000</td>\n",
       "      <td>24.000000</td>\n",
       "      <td>33300.000000</td>\n",
       "      <td>0.000000</td>\n",
       "      <td>0.000000</td>\n",
       "    </tr>\n",
       "    <tr>\n",
       "      <th>50%</th>\n",
       "      <td>0.000000</td>\n",
       "      <td>30.000000</td>\n",
       "      <td>40200.000000</td>\n",
       "      <td>1.000000</td>\n",
       "      <td>0.000000</td>\n",
       "    </tr>\n",
       "    <tr>\n",
       "      <th>75%</th>\n",
       "      <td>1.000000</td>\n",
       "      <td>37.000000</td>\n",
       "      <td>46600.000000</td>\n",
       "      <td>2.000000</td>\n",
       "      <td>0.000000</td>\n",
       "    </tr>\n",
       "    <tr>\n",
       "      <th>max</th>\n",
       "      <td>1.000000</td>\n",
       "      <td>65.000000</td>\n",
       "      <td>79000.000000</td>\n",
       "      <td>6.000000</td>\n",
       "      <td>5.000000</td>\n",
       "    </tr>\n",
       "  </tbody>\n",
       "</table>\n",
       "</div>"
      ],
      "text/plain": [
       "               Пол      Возраст      Зарплата  Члены семьи  Страховые выплаты\n",
       "count  5000.000000  5000.000000   5000.000000  5000.000000        5000.000000\n",
       "mean      0.499000    30.952800  39916.360000     1.194200           0.148000\n",
       "std       0.500049     8.440807   9900.083569     1.091387           0.463183\n",
       "min       0.000000    18.000000   5300.000000     0.000000           0.000000\n",
       "25%       0.000000    24.000000  33300.000000     0.000000           0.000000\n",
       "50%       0.000000    30.000000  40200.000000     1.000000           0.000000\n",
       "75%       1.000000    37.000000  46600.000000     2.000000           0.000000\n",
       "max       1.000000    65.000000  79000.000000     6.000000           5.000000"
      ]
     },
     "execution_count": 4,
     "metadata": {},
     "output_type": "execute_result"
    }
   ],
   "source": [
    "data.describe()"
   ]
  },
  {
   "cell_type": "code",
   "execution_count": 5,
   "metadata": {},
   "outputs": [
    {
     "data": {
      "image/png": "[encoded data removed]",
      "text/plain": [
       "<Figure size 1440x360 with 5 Axes>"
      ]
     },
     "metadata": {
      "needs_background": "light"
     },
     "output_type": "display_data"
    }
   ],
   "source": [
    "fig, axs = plt.subplots(nrows=1, ncols=len(data.columns), figsize=(20, 5))  \n",
    "bins = 20  \n",
    "\n",
    "\n",
    "for i, col in enumerate(data.columns):\n",
    "    axs[i].hist(data[col], bins=bins)\n",
    "    axs[i].set_title(col)  \n",
    "\n",
    "plt.tight_layout()  \n",
    "plt.show()"
   ]
  },
  {
   "cell_type": "markdown",
   "metadata": {},
   "source": [
    "**Разделим данные обучающую (тренировочную) выборку и на целевой признак:**"
   ]
  },
  {
   "cell_type": "code",
   "execution_count": 6,
   "metadata": {},
   "outputs": [],
   "source": [
    "features=data.drop(['Страховые выплаты'],axis=1)\n",
    "target=data['Страховые выплаты']\n",
    "\n",
    "train_features, test_features, train_target, test_target = train_test_split(features,target, test_size=0.2, \n",
    "                                                                            random_state=12345)"
   ]
  },
  {
   "cell_type": "code",
   "execution_count": 7,
   "metadata": {},
   "outputs": [
    {
     "name": "stdout",
     "output_type": "stream",
     "text": [
      "Размер тестовой выборки: 1000\n",
      "Размер тренировочной выборки: 4000\n"
     ]
    }
   ],
   "source": [
    "print('Размер тестовой выборки:', test_features.shape[0])\n",
    "print('Размер тренировочной выборки:', train_features.shape[0])"
   ]
  },
  {
   "cell_type": "markdown",
   "metadata": {},
   "source": [
    "## Умножение матриц"
   ]
  },
  {
   "cell_type": "markdown",
   "metadata": {},
   "source": [
    "Обозначения:\n",
    "\n",
    "- $X$ — матрица признаков (нулевой столбец состоит из единиц)\n",
    "\n",
    "- $y$ — вектор целевого признака\n",
    "\n",
    "- $P$ — матрица, на которую умножаются признаки\n",
    "\n",
    "- $w$ — вектор весов линейной регрессии (нулевой элемент равен сдвигу)"
   ]
  },
  {
   "cell_type": "markdown",
   "metadata": {},
   "source": [
    "Предсказания:\n",
    "\n",
    "$$\n",
    "a = Xw\n",
    "$$\n",
    "\n",
    "Задача обучения:\n",
    "\n",
    "$$\n",
    "w = \\arg\\min_w MSE(Xw, y)\n",
    "$$\n",
    "\n",
    "Формула обучения:\n",
    "\n",
    "$$\n",
    "w = (X^T X)^{-1} X^T y\n",
    "$$"
   ]
  },
  {
   "cell_type": "markdown",
   "metadata": {},
   "source": [
    "**Создадим модель линейной регрессии, обучим ее на исходных данных и получим предсказания:**"
   ]
  },
  {
   "cell_type": "code",
   "execution_count": 8,
   "metadata": {},
   "outputs": [
    {
     "name": "stdout",
     "output_type": "stream",
     "text": [
      "R2_score: 0.41176839567705226\n",
      "MSE: 0.11005813316882353\n"
     ]
    }
   ],
   "source": [
    "model_l = LinearRegression()\n",
    "model_l.fit(train_features,train_target)\n",
    "predictions= model_l.predict(test_features)\n",
    "\n",
    "print('R2_score:', r2_score(test_target, predictions))\n",
    "print('MSE:', mean_squared_error(predictions,test_target))"
   ]
  },
  {
   "cell_type": "code",
   "execution_count": 9,
   "metadata": {},
   "outputs": [
    {
     "name": "stdout",
     "output_type": "stream",
     "text": [
      "R2_score: 0.42494550286668\n",
      "MSE: 0.1233468894171086\n"
     ]
    }
   ],
   "source": [
    "class LinearRegression:\n",
    "    def fit(self, train_features, train_target):\n",
    "        X = np.concatenate((np.ones((train_features.shape[0], 1)), train_features), axis=1)\n",
    "        y = train_target\n",
    "        w = np.linalg.inv(X.T.dot(X)).dot(X.T).dot(y)\n",
    "        self.w = w[1:]\n",
    "        self.w0 = w[0]\n",
    "\n",
    "    def predict(self, test_features):\n",
    "        return test_features.dot(self.w) + self.w0\n",
    "    \n",
    "model = LinearRegression()\n",
    "model.fit(features, target)\n",
    "predictions = model.predict(features)\n",
    "print('R2_score:', r2_score(target, predictions))\n",
    "print('MSE:', mean_squared_error(predictions,target))"
   ]
  },
  {
   "cell_type": "markdown",
   "metadata": {},
   "source": [
    "**Умножим признаки на обратимую матрицу. Выясним изменится ли качество линейной регрессии? Если не изменится, то укажем, как связаны параметры линейной регрессии в исходной задаче и в преобразованной.**"
   ]
  },
  {
   "cell_type": "code",
   "execution_count": 10,
   "metadata": {},
   "outputs": [
    {
     "name": "stdout",
     "output_type": "stream",
     "text": [
      "[[3.87754726 3.64525716 2.53494911 1.55210113]\n",
      " [3.72141707 3.66909559 2.81685958 2.40536603]\n",
      " [2.74947696 0.59399986 3.864247   4.10488338]\n",
      " [2.61152455 3.68933866 4.73523175 2.20480692]]\n"
     ]
    }
   ],
   "source": [
    "matrix=np.random.normal(3, size=(4,4))\n",
    "print(matrix)"
   ]
  },
  {
   "cell_type": "markdown",
   "metadata": {},
   "source": [
    "Матрицы, для которых можно найти обратные, называются обратимыми. Проверим на обратимость нашу матрицу:"
   ]
  },
  {
   "cell_type": "code",
   "execution_count": 11,
   "metadata": {},
   "outputs": [
    {
     "name": "stdout",
     "output_type": "stream",
     "text": [
      "[[ 1.10318017 -0.86705023  0.23343935 -0.26529096]\n",
      " [-0.78903432  1.001693   -0.34797026  0.1104859 ]\n",
      " [ 0.52918585 -0.89940609  0.13939749  0.34916456]\n",
      " [-1.12290329  1.28248623  0.00638065 -0.16699021]]\n"
     ]
    }
   ],
   "source": [
    "print(np.linalg.inv(matrix))"
   ]
  },
  {
   "cell_type": "markdown",
   "metadata": {},
   "source": [
    "Перейдем к умножению признаков: "
   ]
  },
  {
   "cell_type": "code",
   "execution_count": 12,
   "metadata": {},
   "outputs": [
    {
     "data": {
      "text/html": [
       "<div>\n",
       "<style scoped>\n",
       "    .dataframe tbody tr th:only-of-type {\n",
       "        vertical-align: middle;\n",
       "    }\n",
       "\n",
       "    .dataframe tbody tr th {\n",
       "        vertical-align: top;\n",
       "    }\n",
       "\n",
       "    .dataframe thead th {\n",
       "        text-align: right;\n",
       "    }\n",
       "</style>\n",
       "<table border=\"1\" class=\"dataframe\">\n",
       "  <thead>\n",
       "    <tr style=\"text-align: right;\">\n",
       "      <th></th>\n",
       "      <th>Пол</th>\n",
       "      <th>Возраст</th>\n",
       "      <th>Зарплата</th>\n",
       "      <th>Члены семьи</th>\n",
       "    </tr>\n",
       "  </thead>\n",
       "  <tbody>\n",
       "    <tr>\n",
       "      <th>317</th>\n",
       "      <td>109508.834511</td>\n",
       "      <td>23721.954883</td>\n",
       "      <td>153862.838346</td>\n",
       "      <td>163426.875550</td>\n",
       "    </tr>\n",
       "    <tr>\n",
       "      <th>4143</th>\n",
       "      <td>94184.846358</td>\n",
       "      <td>20465.204178</td>\n",
       "      <td>132272.456810</td>\n",
       "      <td>140484.778417</td>\n",
       "    </tr>\n",
       "    <tr>\n",
       "      <th>4252</th>\n",
       "      <td>139847.382551</td>\n",
       "      <td>30347.636614</td>\n",
       "      <td>196437.776578</td>\n",
       "      <td>208640.074200</td>\n",
       "    </tr>\n",
       "    <tr>\n",
       "      <th>710</th>\n",
       "      <td>107613.971973</td>\n",
       "      <td>23335.507748</td>\n",
       "      <td>151180.400321</td>\n",
       "      <td>160572.700110</td>\n",
       "    </tr>\n",
       "    <tr>\n",
       "      <th>148</th>\n",
       "      <td>107336.412752</td>\n",
       "      <td>23272.418424</td>\n",
       "      <td>150789.240389</td>\n",
       "      <td>160160.006965</td>\n",
       "    </tr>\n",
       "  </tbody>\n",
       "</table>\n",
       "</div>"
      ],
      "text/plain": [
       "                Пол       Возраст       Зарплата    Члены семьи\n",
       "317   109508.834511  23721.954883  153862.838346  163426.875550\n",
       "4143   94184.846358  20465.204178  132272.456810  140484.778417\n",
       "4252  139847.382551  30347.636614  196437.776578  208640.074200\n",
       "710   107613.971973  23335.507748  151180.400321  160572.700110\n",
       "148   107336.412752  23272.418424  150789.240389  160160.006965"
      ]
     },
     "execution_count": 12,
     "metadata": {},
     "output_type": "execute_result"
    }
   ],
   "source": [
    "train_matrix=train_features @ matrix\n",
    "train_matrix.columns = train_features.columns\n",
    "train_matrix.head()"
   ]
  },
  {
   "cell_type": "code",
   "execution_count": 13,
   "metadata": {},
   "outputs": [
    {
     "data": {
      "text/html": [
       "<div>\n",
       "<style scoped>\n",
       "    .dataframe tbody tr th:only-of-type {\n",
       "        vertical-align: middle;\n",
       "    }\n",
       "\n",
       "    .dataframe tbody tr th {\n",
       "        vertical-align: top;\n",
       "    }\n",
       "\n",
       "    .dataframe thead th {\n",
       "        text-align: right;\n",
       "    }\n",
       "</style>\n",
       "<table border=\"1\" class=\"dataframe\">\n",
       "  <thead>\n",
       "    <tr style=\"text-align: right;\">\n",
       "      <th></th>\n",
       "      <th>Пол</th>\n",
       "      <th>Возраст</th>\n",
       "      <th>Зарплата</th>\n",
       "      <th>Члены семьи</th>\n",
       "    </tr>\n",
       "  </thead>\n",
       "  <tbody>\n",
       "    <tr>\n",
       "      <th>3183</th>\n",
       "      <td>107362.854411</td>\n",
       "      <td>23301.831918</td>\n",
       "      <td>150817.530382</td>\n",
       "      <td>160178.648216</td>\n",
       "    </tr>\n",
       "    <tr>\n",
       "      <th>1071</th>\n",
       "      <td>118693.751000</td>\n",
       "      <td>25792.227278</td>\n",
       "      <td>166699.359241</td>\n",
       "      <td>177045.151692</td>\n",
       "    </tr>\n",
       "    <tr>\n",
       "      <th>2640</th>\n",
       "      <td>115901.992948</td>\n",
       "      <td>25154.133949</td>\n",
       "      <td>162797.191269</td>\n",
       "      <td>172910.951771</td>\n",
       "    </tr>\n",
       "    <tr>\n",
       "      <th>2282</th>\n",
       "      <td>95756.226647</td>\n",
       "      <td>20744.576923</td>\n",
       "      <td>134532.132871</td>\n",
       "      <td>142898.049024</td>\n",
       "    </tr>\n",
       "    <tr>\n",
       "      <th>1595</th>\n",
       "      <td>110142.102711</td>\n",
       "      <td>23925.184539</td>\n",
       "      <td>154704.312261</td>\n",
       "      <td>164302.774526</td>\n",
       "    </tr>\n",
       "  </tbody>\n",
       "</table>\n",
       "</div>"
      ],
      "text/plain": [
       "                Пол       Возраст       Зарплата    Члены семьи\n",
       "3183  107362.854411  23301.831918  150817.530382  160178.648216\n",
       "1071  118693.751000  25792.227278  166699.359241  177045.151692\n",
       "2640  115901.992948  25154.133949  162797.191269  172910.951771\n",
       "2282   95756.226647  20744.576923  134532.132871  142898.049024\n",
       "1595  110142.102711  23925.184539  154704.312261  164302.774526"
      ]
     },
     "execution_count": 13,
     "metadata": {},
     "output_type": "execute_result"
    }
   ],
   "source": [
    "test_matrix = test_features @ matrix\n",
    "test_matrix.columns = test_features.columns\n",
    "test_matrix.head()"
   ]
  },
  {
   "cell_type": "code",
   "execution_count": 14,
   "metadata": {},
   "outputs": [
    {
     "name": "stdout",
     "output_type": "stream",
     "text": [
      "R2_score: 0.41176834576438603\n",
      "MSE: 0.11005814250748339\n"
     ]
    }
   ],
   "source": [
    "model_l = LinearRegression()\n",
    "model_l.fit(train_matrix,train_target)\n",
    "predictions_matrix = model_l.predict(test_matrix)\n",
    "\n",
    "print('R2_score:', r2_score(test_target, predictions_matrix))\n",
    "print('MSE:', mean_squared_error(predictions_matrix,test_target))"
   ]
  },
  {
   "cell_type": "markdown",
   "metadata": {},
   "source": [
    "Когда мы умножаем признаки на обратимую матрицу, мы производим линейное преобразование признаков. Почему же качество линейной регрессии не изменяется в этом случае:\n",
    "\n",
    "Обратимость матрицы: Поскольку мы используем обратимую матрицу, мы не теряем информации. Обратимая матрица сохраняет линейную независимость признаков, что означает, что они по-прежнему содержат всю информацию о зависимости между признаками и целевой переменной.\n",
    "\n",
    "Качество модели: Качество линейной регрессии измеряется с использованием какой-то метрики, например, среднеквадратичной ошибки (MSE) или коэффициента детерминации (R^2). После умножения признаков на обратимую матрицу, модель все еще может адекватно описывать зависимости в данных и делать точные прогнозы, что не отражается на изменении метрики качества.\n",
    "\n",
    "Параметры модели: Когда мы умножаем матрицу признаков на обратимую матрицу, параметры модели также изменяются, но они изменяются таким образом, что компенсируются изменениями в признаках, сохраняя ту же функциональную форму модели. Поэтому, несмотря на изменения в параметрах, модель сохраняет способность описывать данные.\n",
    "\n",
    "Связь параметров: Параметры линейной регрессии в исходной и преобразованной задачах связаны через обратимую матрицу. Если исходные параметры модели были вектором β, а обратимая матрица - это М, то параметры модели после преобразования будут равны Mβ. Таким образом, параметры модели в новой задаче просто представляют собой линейную комбинацию исходных параметров.\n",
    "\n",
    "В итоге, качество линейной регрессии не изменяется, потому что сохраняется линейная независимость признаков, несмотря на изменение их представления, и параметры модели адаптируются так, чтобы сохранить ее адекватность."
   ]
  },
  {
   "cell_type": "markdown",
   "metadata": {},
   "source": [
    "**Обоснование:**\n",
    "\n",
    "Используемые свойства:\n",
    "$$\n",
    "(AB)^T=B^T A^T\n",
    "$$\n",
    "$$\n",
    "(AB)^{-1} = B^{-1} A^{-1}\n",
    "$$\n",
    "$$\n",
    "A A^{-1} = A^{-1} A = E\n",
    "$$\n",
    "$$\n",
    "AE = EA = A\n",
    "$$\n",
    "Доказательство:\n",
    "$$\n",
    "a = Xw = XEw = XPP^{-1}w = (XP)P^{-1}w = (XP)w'\n",
    "$$\n",
    "\\\n",
    "Требуется доказать, что предсказания не изменятся, имеем  $a =  Xw$,   $a' = X'w'$\n",
    "\\\n",
    "\\\n",
    "$$\n",
    "    w = (X^T X)^{-1} X^T y\n",
    "$$\n",
    "\\\n",
    "$$\n",
    "w' = ((XP)^T XP)^{-1} (XP)^T y\n",
    "$$\n",
    "$$\n",
    "w' = (P^T (X^T X) P)^{-1} (XP)^T y\n",
    "$$\n",
    "$$\n",
    "w' = (P^T (X^T X) P)^{-1} P^T X^T y\n",
    "$$\n",
    "$$\n",
    "w' = P^{-1} (X^T X)^{-1} (P^T)^{-1} P^T X^T y\n",
    "$$\n",
    "$$\n",
    "w' = P^{-1} (X^T X)^{-1} E X^T y\n",
    "$$\n",
    "$$\n",
    "w' = P^{-1} (X^T X)^{-1} X^T y\n",
    "$$\n",
    "\n",
    "Так как  $w = (X^T X)^{-1} X^T y$\n",
    "\n",
    "$$\n",
    "w' = P^{-1}w\n",
    "$$\n",
    "\n",
    "\n",
    "\n",
    "Мы доказали, что $w' = P^{-1}w$, это означает, что $a=a'$ и предсказания не изменились."
   ]
  },
  {
   "cell_type": "markdown",
   "metadata": {},
   "source": [
    "## Алгоритм преобразования"
   ]
  },
  {
   "cell_type": "markdown",
   "metadata": {},
   "source": [
    "**Алгоритм**\n",
    "\n",
    "- Создаём рандомную матрицу SECRET\n",
    "\n",
    "- Проверяем её на обратимость\n",
    "\n",
    "- Создаём новую матрицу данных \n",
    "\n",
    "- Ищем метрики качества \n",
    "\n",
    "- Описываем вывод полученных результатов"
   ]
  },
  {
   "cell_type": "markdown",
   "metadata": {},
   "source": [
    "**Обоснование**\n",
    "\n",
    "Как я уже писал выше, когда мы умножаем матрицу признаков на обратимую матрицу, параметры модели также изменяются, но они изменяются таким образом, что компенсируются изменениями в признаках, сохраняя ту же функциональную форму модели. Поэтому, несмотря на изменения в параметрах, модель сохраняет способность описывать данные."
   ]
  },
  {
   "cell_type": "markdown",
   "metadata": {},
   "source": [
    "## Проверка алгоритма"
   ]
  },
  {
   "cell_type": "markdown",
   "metadata": {},
   "source": [
    "**Создаём рандомную матрицу SECRET:**"
   ]
  },
  {
   "cell_type": "code",
   "execution_count": 15,
   "metadata": {},
   "outputs": [
    {
     "name": "stdout",
     "output_type": "stream",
     "text": [
      "[[1.16204936 2.33102273 2.58155995 4.65475173]\n",
      " [2.58143062 2.9092984  3.57521863 4.76493129]\n",
      " [3.18218004 1.75931315 3.96500649 4.62448083]\n",
      " [3.77641382 4.82568507 2.91863137 3.10894326]]\n"
     ]
    }
   ],
   "source": [
    "SECRET = np.random.normal(3, size=(4,4))\n",
    "print(SECRET)"
   ]
  },
  {
   "cell_type": "markdown",
   "metadata": {},
   "source": [
    "**Проверяем её на обратимость:**"
   ]
  },
  {
   "cell_type": "code",
   "execution_count": 16,
   "metadata": {},
   "outputs": [
    {
     "name": "stdout",
     "output_type": "stream",
     "text": [
      "[[ 1.54570848 -3.81780128  1.76514474  0.91149736]\n",
      " [-0.47670561  1.29588921 -0.82700773 -0.04226368]\n",
      " [-3.13734595  6.04365446 -2.1706598  -1.33674269]\n",
      " [ 1.80767294 -3.04770927  1.17735107  0.53497892]]\n"
     ]
    }
   ],
   "source": [
    "print(np.linalg.inv(SECRET))"
   ]
  },
  {
   "cell_type": "markdown",
   "metadata": {},
   "source": [
    "**Создаём новую матрицу данных:**"
   ]
  },
  {
   "cell_type": "code",
   "execution_count": 17,
   "metadata": {},
   "outputs": [
    {
     "data": {
      "text/html": [
       "<div>\n",
       "<style scoped>\n",
       "    .dataframe tbody tr th:only-of-type {\n",
       "        vertical-align: middle;\n",
       "    }\n",
       "\n",
       "    .dataframe tbody tr th {\n",
       "        vertical-align: top;\n",
       "    }\n",
       "\n",
       "    .dataframe thead th {\n",
       "        text-align: right;\n",
       "    }\n",
       "</style>\n",
       "<table border=\"1\" class=\"dataframe\">\n",
       "  <thead>\n",
       "    <tr style=\"text-align: right;\">\n",
       "      <th></th>\n",
       "      <th>Пол</th>\n",
       "      <th>Возраст</th>\n",
       "      <th>Зарплата</th>\n",
       "      <th>Члены семьи</th>\n",
       "    </tr>\n",
       "  </thead>\n",
       "  <tbody>\n",
       "    <tr>\n",
       "      <th>317</th>\n",
       "      <td>126709.947039</td>\n",
       "      <td>70088.500698</td>\n",
       "      <td>157884.600125</td>\n",
       "      <td>184155.853445</td>\n",
       "    </tr>\n",
       "    <tr>\n",
       "      <th>4143</th>\n",
       "      <td>108934.976648</td>\n",
       "      <td>60287.212680</td>\n",
       "      <td>135748.812424</td>\n",
       "      <td>158352.496302</td>\n",
       "    </tr>\n",
       "    <tr>\n",
       "      <th>4252</th>\n",
       "      <td>161775.848882</td>\n",
       "      <td>89511.183143</td>\n",
       "      <td>201588.714961</td>\n",
       "      <td>235145.811638</td>\n",
       "    </tr>\n",
       "    <tr>\n",
       "      <th>710</th>\n",
       "      <td>124503.072456</td>\n",
       "      <td>68880.255881</td>\n",
       "      <td>155137.697327</td>\n",
       "      <td>180956.836316</td>\n",
       "    </tr>\n",
       "    <tr>\n",
       "      <th>148</th>\n",
       "      <td>124181.078038</td>\n",
       "      <td>68699.498880</td>\n",
       "      <td>154738.278046</td>\n",
       "      <td>180491.279290</td>\n",
       "    </tr>\n",
       "  </tbody>\n",
       "</table>\n",
       "</div>"
      ],
      "text/plain": [
       "                Пол       Возраст       Зарплата    Члены семьи\n",
       "317   126709.947039  70088.500698  157884.600125  184155.853445\n",
       "4143  108934.976648  60287.212680  135748.812424  158352.496302\n",
       "4252  161775.848882  89511.183143  201588.714961  235145.811638\n",
       "710   124503.072456  68880.255881  155137.697327  180956.836316\n",
       "148   124181.078038  68699.498880  154738.278046  180491.279290"
      ]
     },
     "execution_count": 17,
     "metadata": {},
     "output_type": "execute_result"
    }
   ],
   "source": [
    "train_SECRET = train_features @ SECRET\n",
    "train_SECRET.columns = train_features.columns\n",
    "train_SECRET.head()"
   ]
  },
  {
   "cell_type": "code",
   "execution_count": 18,
   "metadata": {},
   "outputs": [
    {
     "data": {
      "text/html": [
       "<div>\n",
       "<style scoped>\n",
       "    .dataframe tbody tr th:only-of-type {\n",
       "        vertical-align: middle;\n",
       "    }\n",
       "\n",
       "    .dataframe tbody tr th {\n",
       "        vertical-align: top;\n",
       "    }\n",
       "\n",
       "    .dataframe thead th {\n",
       "        text-align: right;\n",
       "    }\n",
       "</style>\n",
       "<table border=\"1\" class=\"dataframe\">\n",
       "  <thead>\n",
       "    <tr style=\"text-align: right;\">\n",
       "      <th></th>\n",
       "      <th>Пол</th>\n",
       "      <th>Возраст</th>\n",
       "      <th>Зарплата</th>\n",
       "      <th>Члены семьи</th>\n",
       "    </tr>\n",
       "  </thead>\n",
       "  <tbody>\n",
       "    <tr>\n",
       "      <th>3183</th>\n",
       "      <td>124205.314433</td>\n",
       "      <td>68728.522428</td>\n",
       "      <td>154764.910034</td>\n",
       "      <td>180524.430776</td>\n",
       "    </tr>\n",
       "    <tr>\n",
       "      <th>1071</th>\n",
       "      <td>137288.584090</td>\n",
       "      <td>75981.513044</td>\n",
       "      <td>171076.378116</td>\n",
       "      <td>199559.588114</td>\n",
       "    </tr>\n",
       "    <tr>\n",
       "      <th>2640</th>\n",
       "      <td>134071.617535</td>\n",
       "      <td>74182.877265</td>\n",
       "      <td>167068.788513</td>\n",
       "      <td>194881.129908</td>\n",
       "    </tr>\n",
       "    <tr>\n",
       "      <th>2282</th>\n",
       "      <td>110791.494010</td>\n",
       "      <td>61282.283579</td>\n",
       "      <td>138053.730388</td>\n",
       "      <td>161027.231421</td>\n",
       "    </tr>\n",
       "    <tr>\n",
       "      <th>1595</th>\n",
       "      <td>127408.145918</td>\n",
       "      <td>70511.109965</td>\n",
       "      <td>158758.518277</td>\n",
       "      <td>185187.031054</td>\n",
       "    </tr>\n",
       "  </tbody>\n",
       "</table>\n",
       "</div>"
      ],
      "text/plain": [
       "                Пол       Возраст       Зарплата    Члены семьи\n",
       "3183  124205.314433  68728.522428  154764.910034  180524.430776\n",
       "1071  137288.584090  75981.513044  171076.378116  199559.588114\n",
       "2640  134071.617535  74182.877265  167068.788513  194881.129908\n",
       "2282  110791.494010  61282.283579  138053.730388  161027.231421\n",
       "1595  127408.145918  70511.109965  158758.518277  185187.031054"
      ]
     },
     "execution_count": 18,
     "metadata": {},
     "output_type": "execute_result"
    }
   ],
   "source": [
    "test_SECRET = test_features @ SECRET\n",
    "test_SECRET.columns = test_features.columns\n",
    "test_SECRET.head()"
   ]
  },
  {
   "cell_type": "markdown",
   "metadata": {},
   "source": [
    "**Ищем метрики качества:**"
   ]
  },
  {
   "cell_type": "code",
   "execution_count": 19,
   "metadata": {},
   "outputs": [],
   "source": [
    "X = np.concatenate((np.ones((train_SECRET.shape[0], 1)), train_SECRET), axis=1)\n",
    "y = train_target\n",
    "w = np.linalg.inv(X.T.dot(X)).dot(X.T).dot(y)\n",
    "predictions_SECRET = test_SECRET @ (w[1:]) + w[0]"
   ]
  },
  {
   "cell_type": "code",
   "execution_count": 20,
   "metadata": {},
   "outputs": [
    {
     "name": "stdout",
     "output_type": "stream",
     "text": [
      "R2_score: 0.41176760953491864\n",
      "MSE: 0.11005828025601674\n"
     ]
    }
   ],
   "source": [
    "print('R2_score:', r2_score(test_target, predictions_SECRET))\n",
    "print('MSE:', mean_squared_error(predictions_SECRET,test_target))"
   ]
  },
  {
   "cell_type": "markdown",
   "metadata": {},
   "source": [
    "**Проверили и убедились, что качество линейной регрессии не отличается до и после преобразования.**"
   ]
  },
  {
   "cell_type": "markdown",
   "metadata": {},
   "source": [
    "## Вывод "
   ]
  },
  {
   "cell_type": "markdown",
   "metadata": {},
   "source": [
    "- Загрузили и изучили данные.\n",
    "- Ответили на вопрос про то,  что признаки умножают на обратимую матрицу: Изменится ли качество линейной регрессии?И обосновали решение. \n",
    "- Указали, как связаны параметры линейной регрессии в исходной задаче и в преобразованной.\n",
    "- Предложили алгоритм преобразования данных для решения задачи. Обосновали, почему качество линейной регрессии не поменяется.\n",
    "- Запрограммировали этот алгоритм, применив матричные операции. Проверили, что качество линейной регрессии не отличается до и после преобразования.\n",
    "- Данные клиентов страховой компании «Хоть потоп» успешно защищены. "
   ]
  }
 ],
 "metadata": {
  "ExecuteTimeLog": [
   {
    "duration": 1081,
    "start_time": "2024-03-03T14:59:09.713Z"
   },
   {
    "duration": 86,
    "start_time": "2024-03-03T15:17:35.461Z"
   },
   {
    "duration": 16,
    "start_time": "2024-03-03T15:18:00.161Z"
   },
   {
    "duration": 23,
    "start_time": "2024-03-03T15:18:25.114Z"
   },
   {
    "duration": 868,
    "start_time": "2024-03-03T15:18:41.448Z"
   },
   {
    "duration": 414,
    "start_time": "2024-03-03T15:18:48.534Z"
   },
   {
    "duration": 106,
    "start_time": "2024-03-03T15:21:32.894Z"
   },
   {
    "duration": 5,
    "start_time": "2024-03-03T15:21:52.140Z"
   },
   {
    "duration": 246,
    "start_time": "2024-03-03T15:21:54.963Z"
   },
   {
    "duration": 736,
    "start_time": "2024-03-03T15:23:14.374Z"
   },
   {
    "duration": 722,
    "start_time": "2024-03-03T15:24:08.490Z"
   },
   {
    "duration": 6,
    "start_time": "2024-03-03T15:30:16.490Z"
   },
   {
    "duration": 4,
    "start_time": "2024-03-03T15:31:19.384Z"
   },
   {
    "duration": 4,
    "start_time": "2024-03-03T15:31:32.612Z"
   },
   {
    "duration": 10,
    "start_time": "2024-03-03T15:51:42.473Z"
   },
   {
    "duration": 7,
    "start_time": "2024-03-03T15:52:37.892Z"
   },
   {
    "duration": 12,
    "start_time": "2024-03-03T15:54:16.190Z"
   },
   {
    "duration": 22,
    "start_time": "2024-03-03T15:57:38.468Z"
   },
   {
    "duration": 8,
    "start_time": "2024-03-03T15:58:28.383Z"
   },
   {
    "duration": 147,
    "start_time": "2024-03-03T15:59:20.541Z"
   },
   {
    "duration": 15,
    "start_time": "2024-03-03T15:59:26.821Z"
   },
   {
    "duration": 1371,
    "start_time": "2024-03-03T15:59:38.604Z"
   },
   {
    "duration": 29,
    "start_time": "2024-03-03T15:59:39.977Z"
   },
   {
    "duration": 13,
    "start_time": "2024-03-03T15:59:40.007Z"
   },
   {
    "duration": 37,
    "start_time": "2024-03-03T15:59:40.021Z"
   },
   {
    "duration": 792,
    "start_time": "2024-03-03T15:59:40.060Z"
   },
   {
    "duration": 7,
    "start_time": "2024-03-03T15:59:40.853Z"
   },
   {
    "duration": 32,
    "start_time": "2024-03-03T15:59:40.861Z"
   },
   {
    "duration": 13,
    "start_time": "2024-03-03T15:59:40.895Z"
   },
   {
    "duration": 19,
    "start_time": "2024-03-03T15:59:40.909Z"
   },
   {
    "duration": 287,
    "start_time": "2024-03-03T16:00:14.225Z"
   },
   {
    "duration": 9,
    "start_time": "2024-03-03T16:00:17.125Z"
   },
   {
    "duration": 9,
    "start_time": "2024-03-03T16:00:38.460Z"
   },
   {
    "duration": 9,
    "start_time": "2024-03-03T16:01:00.883Z"
   },
   {
    "duration": 7,
    "start_time": "2024-03-03T16:01:08.970Z"
   },
   {
    "duration": 4,
    "start_time": "2024-03-03T16:06:58.467Z"
   },
   {
    "duration": 5,
    "start_time": "2024-03-03T16:08:21.656Z"
   },
   {
    "duration": 4,
    "start_time": "2024-03-03T16:08:32.102Z"
   },
   {
    "duration": 11,
    "start_time": "2024-03-03T16:10:14.403Z"
   },
   {
    "duration": 9,
    "start_time": "2024-03-03T16:11:25.737Z"
   },
   {
    "duration": 7,
    "start_time": "2024-03-03T16:13:31.849Z"
   },
   {
    "duration": 1566,
    "start_time": "2024-03-04T17:15:37.572Z"
   },
   {
    "duration": 86,
    "start_time": "2024-03-04T17:15:39.140Z"
   },
   {
    "duration": 14,
    "start_time": "2024-03-04T17:15:39.228Z"
   },
   {
    "duration": 32,
    "start_time": "2024-03-04T17:15:39.244Z"
   },
   {
    "duration": 810,
    "start_time": "2024-03-04T17:15:39.279Z"
   },
   {
    "duration": 6,
    "start_time": "2024-03-04T17:15:40.094Z"
   },
   {
    "duration": 27,
    "start_time": "2024-03-04T17:15:40.102Z"
   },
   {
    "duration": 33,
    "start_time": "2024-03-04T17:15:40.131Z"
   },
   {
    "duration": 236,
    "start_time": "2024-03-04T17:15:40.166Z"
   },
   {
    "duration": 7,
    "start_time": "2024-03-04T17:15:40.404Z"
   },
   {
    "duration": 91,
    "start_time": "2024-03-04T17:15:40.415Z"
   },
   {
    "duration": 94,
    "start_time": "2024-03-04T17:15:40.509Z"
   },
   {
    "duration": 92,
    "start_time": "2024-03-04T17:15:40.606Z"
   },
   {
    "duration": 10,
    "start_time": "2024-03-04T17:15:40.701Z"
   },
   {
    "duration": 4,
    "start_time": "2024-03-04T17:16:53.181Z"
   },
   {
    "duration": 100,
    "start_time": "2024-03-04T17:17:11.844Z"
   },
   {
    "duration": 3,
    "start_time": "2024-03-04T17:17:47.625Z"
   },
   {
    "duration": 9,
    "start_time": "2024-03-04T17:19:43.827Z"
   },
   {
    "duration": 9,
    "start_time": "2024-03-04T17:20:10.508Z"
   },
   {
    "duration": 5,
    "start_time": "2024-03-04T17:23:12.298Z"
   },
   {
    "duration": 5,
    "start_time": "2024-03-04T17:23:47.679Z"
   },
   {
    "duration": 1287,
    "start_time": "2024-03-04T17:29:07.239Z"
   },
   {
    "duration": 29,
    "start_time": "2024-03-04T17:29:08.527Z"
   },
   {
    "duration": 12,
    "start_time": "2024-03-04T17:29:08.557Z"
   },
   {
    "duration": 24,
    "start_time": "2024-03-04T17:29:08.571Z"
   },
   {
    "duration": 742,
    "start_time": "2024-03-04T17:29:08.596Z"
   },
   {
    "duration": 6,
    "start_time": "2024-03-04T17:29:09.340Z"
   },
   {
    "duration": 14,
    "start_time": "2024-03-04T17:29:09.348Z"
   },
   {
    "duration": 27,
    "start_time": "2024-03-04T17:29:09.363Z"
   },
   {
    "duration": 11,
    "start_time": "2024-03-04T17:29:09.391Z"
   },
   {
    "duration": 95,
    "start_time": "2024-03-04T17:29:09.501Z"
   },
   {
    "duration": 20,
    "start_time": "2024-03-04T17:29:09.597Z"
   },
   {
    "duration": 81,
    "start_time": "2024-03-04T17:29:09.619Z"
   },
   {
    "duration": 9,
    "start_time": "2024-03-04T17:29:09.702Z"
   },
   {
    "duration": 92,
    "start_time": "2024-03-04T17:29:09.713Z"
   },
   {
    "duration": 5,
    "start_time": "2024-03-04T17:29:09.807Z"
   },
   {
    "duration": 84,
    "start_time": "2024-03-04T17:29:09.813Z"
   },
   {
    "duration": 101,
    "start_time": "2024-03-04T17:29:09.900Z"
   },
   {
    "duration": 48,
    "start_time": "2024-03-04T17:29:10.003Z"
   },
   {
    "duration": 29,
    "start_time": "2024-03-04T17:29:10.053Z"
   },
   {
    "duration": 27,
    "start_time": "2024-03-04T17:29:10.084Z"
   }
  ],
  "kernelspec": {
   "display_name": "Python 3 (ipykernel)",
   "language": "python",
   "name": "python3"
  },
  "language_info": {
   "codemirror_mode": {
    "name": "ipython",
    "version": 3
   },
   "file_extension": ".py",
   "mimetype": "text/x-python",
   "name": "python",
   "nbconvert_exporter": "python",
   "pygments_lexer": "ipython3",
   "version": "3.10.9"
  },
  "toc": {
   "base_numbering": 1,
   "nav_menu": {},
   "number_sections": true,
   "sideBar": true,
   "skip_h1_title": true,
   "title_cell": "Содержание",
   "title_sidebar": "Contents",
   "toc_cell": true,
   "toc_position": {
    "height": "calc(100% - 180px)",
    "left": "10px",
    "top": "150px",
    "width": "165px"
   },
   "toc_section_display": true,
   "toc_window_display": true
  }
 },
 "nbformat": 4,
 "nbformat_minor": 2
}
